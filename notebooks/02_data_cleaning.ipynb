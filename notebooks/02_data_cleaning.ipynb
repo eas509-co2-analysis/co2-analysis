{
 "cells": [
  {
   "cell_type": "markdown",
   "id": "89d169ac-4ab0-41af-85c3-6020f451c787",
   "metadata": {},
   "source": [
    "# Imports"
   ]
  },
  {
   "cell_type": "code",
   "execution_count": 16,
   "id": "d9702090-7411-42c0-9a4b-0aedfbb16841",
   "metadata": {},
   "outputs": [],
   "source": [
    "import numpy as np\n",
    "import pandas as pd"
   ]
  },
  {
   "cell_type": "code",
   "execution_count": 13,
   "id": "96da3c91-6abc-4b10-80c0-d9ba12e2a475",
   "metadata": {},
   "outputs": [
    {
     "data": {
      "text/html": [
       "<div>\n",
       "<style scoped>\n",
       "    .dataframe tbody tr th:only-of-type {\n",
       "        vertical-align: middle;\n",
       "    }\n",
       "\n",
       "    .dataframe tbody tr th {\n",
       "        vertical-align: top;\n",
       "    }\n",
       "\n",
       "    .dataframe thead th {\n",
       "        text-align: right;\n",
       "    }\n",
       "</style>\n",
       "<table border=\"1\" class=\"dataframe\">\n",
       "  <thead>\n",
       "    <tr style=\"text-align: right;\">\n",
       "      <th></th>\n",
       "      <th>p (mbar)</th>\n",
       "      <th>T (degC)</th>\n",
       "      <th>Tpot (K)</th>\n",
       "      <th>Tdew (degC)</th>\n",
       "      <th>rh (%)</th>\n",
       "      <th>VPmax (mbar)</th>\n",
       "      <th>VPact (mbar)</th>\n",
       "      <th>VPdef (mbar)</th>\n",
       "      <th>sh (g/kg)</th>\n",
       "      <th>H2OC (mmol/mol)</th>\n",
       "      <th>...</th>\n",
       "      <th>wv (m/s)</th>\n",
       "      <th>max. wv (m/s)</th>\n",
       "      <th>wd (deg)</th>\n",
       "      <th>rain (mm)</th>\n",
       "      <th>raining (s)</th>\n",
       "      <th>SWDR (W/m²)</th>\n",
       "      <th>PAR (µmol/m²/s)</th>\n",
       "      <th>max. PAR (µmol/m²/s)</th>\n",
       "      <th>Tlog (degC)</th>\n",
       "      <th>CO2 (ppm)</th>\n",
       "    </tr>\n",
       "    <tr>\n",
       "      <th>Date Time</th>\n",
       "      <th></th>\n",
       "      <th></th>\n",
       "      <th></th>\n",
       "      <th></th>\n",
       "      <th></th>\n",
       "      <th></th>\n",
       "      <th></th>\n",
       "      <th></th>\n",
       "      <th></th>\n",
       "      <th></th>\n",
       "      <th></th>\n",
       "      <th></th>\n",
       "      <th></th>\n",
       "      <th></th>\n",
       "      <th></th>\n",
       "      <th></th>\n",
       "      <th></th>\n",
       "      <th></th>\n",
       "      <th></th>\n",
       "      <th></th>\n",
       "      <th></th>\n",
       "    </tr>\n",
       "  </thead>\n",
       "  <tbody>\n",
       "    <tr>\n",
       "      <th>2017-01-01 00:10:00</th>\n",
       "      <td>999.77</td>\n",
       "      <td>-4.91</td>\n",
       "      <td>268.27</td>\n",
       "      <td>-8.41</td>\n",
       "      <td>76.3</td>\n",
       "      <td>4.24</td>\n",
       "      <td>3.23</td>\n",
       "      <td>1.00</td>\n",
       "      <td>2.01</td>\n",
       "      <td>3.23</td>\n",
       "      <td>...</td>\n",
       "      <td>0.78</td>\n",
       "      <td>1.56</td>\n",
       "      <td>184.0</td>\n",
       "      <td>0.0</td>\n",
       "      <td>0.0</td>\n",
       "      <td>0.0</td>\n",
       "      <td>0.0</td>\n",
       "      <td>0.0</td>\n",
       "      <td>7.10</td>\n",
       "      <td>434.3</td>\n",
       "    </tr>\n",
       "    <tr>\n",
       "      <th>2017-01-01 00:20:00</th>\n",
       "      <td>999.63</td>\n",
       "      <td>-5.05</td>\n",
       "      <td>268.13</td>\n",
       "      <td>-8.37</td>\n",
       "      <td>77.4</td>\n",
       "      <td>4.19</td>\n",
       "      <td>3.24</td>\n",
       "      <td>0.95</td>\n",
       "      <td>2.02</td>\n",
       "      <td>3.24</td>\n",
       "      <td>...</td>\n",
       "      <td>1.52</td>\n",
       "      <td>1.92</td>\n",
       "      <td>202.6</td>\n",
       "      <td>0.0</td>\n",
       "      <td>0.0</td>\n",
       "      <td>0.0</td>\n",
       "      <td>0.0</td>\n",
       "      <td>0.0</td>\n",
       "      <td>7.72</td>\n",
       "      <td>434.1</td>\n",
       "    </tr>\n",
       "    <tr>\n",
       "      <th>2017-01-01 00:30:00</th>\n",
       "      <td>999.54</td>\n",
       "      <td>-4.98</td>\n",
       "      <td>268.21</td>\n",
       "      <td>-8.38</td>\n",
       "      <td>76.9</td>\n",
       "      <td>4.21</td>\n",
       "      <td>3.24</td>\n",
       "      <td>0.97</td>\n",
       "      <td>2.02</td>\n",
       "      <td>3.24</td>\n",
       "      <td>...</td>\n",
       "      <td>0.98</td>\n",
       "      <td>1.78</td>\n",
       "      <td>227.4</td>\n",
       "      <td>0.0</td>\n",
       "      <td>0.0</td>\n",
       "      <td>0.0</td>\n",
       "      <td>0.0</td>\n",
       "      <td>0.0</td>\n",
       "      <td>8.77</td>\n",
       "      <td>430.4</td>\n",
       "    </tr>\n",
       "    <tr>\n",
       "      <th>2017-01-01 00:40:00</th>\n",
       "      <td>999.40</td>\n",
       "      <td>-4.88</td>\n",
       "      <td>268.33</td>\n",
       "      <td>-8.56</td>\n",
       "      <td>75.2</td>\n",
       "      <td>4.25</td>\n",
       "      <td>3.19</td>\n",
       "      <td>1.05</td>\n",
       "      <td>1.99</td>\n",
       "      <td>3.20</td>\n",
       "      <td>...</td>\n",
       "      <td>1.16</td>\n",
       "      <td>1.80</td>\n",
       "      <td>212.5</td>\n",
       "      <td>0.0</td>\n",
       "      <td>0.0</td>\n",
       "      <td>0.0</td>\n",
       "      <td>0.0</td>\n",
       "      <td>0.0</td>\n",
       "      <td>9.36</td>\n",
       "      <td>430.6</td>\n",
       "    </tr>\n",
       "    <tr>\n",
       "      <th>2017-01-01 00:50:00</th>\n",
       "      <td>999.17</td>\n",
       "      <td>-5.17</td>\n",
       "      <td>268.06</td>\n",
       "      <td>-8.74</td>\n",
       "      <td>75.8</td>\n",
       "      <td>4.15</td>\n",
       "      <td>3.15</td>\n",
       "      <td>1.01</td>\n",
       "      <td>1.96</td>\n",
       "      <td>3.15</td>\n",
       "      <td>...</td>\n",
       "      <td>1.50</td>\n",
       "      <td>2.64</td>\n",
       "      <td>222.1</td>\n",
       "      <td>0.0</td>\n",
       "      <td>0.0</td>\n",
       "      <td>0.0</td>\n",
       "      <td>0.0</td>\n",
       "      <td>0.0</td>\n",
       "      <td>9.45</td>\n",
       "      <td>429.5</td>\n",
       "    </tr>\n",
       "  </tbody>\n",
       "</table>\n",
       "<p>5 rows × 21 columns</p>\n",
       "</div>"
      ],
      "text/plain": [
       "                     p (mbar)  T (degC)  Tpot (K)  Tdew (degC)  rh (%)  \\\n",
       "Date Time                                                                \n",
       "2017-01-01 00:10:00    999.77     -4.91    268.27        -8.41    76.3   \n",
       "2017-01-01 00:20:00    999.63     -5.05    268.13        -8.37    77.4   \n",
       "2017-01-01 00:30:00    999.54     -4.98    268.21        -8.38    76.9   \n",
       "2017-01-01 00:40:00    999.40     -4.88    268.33        -8.56    75.2   \n",
       "2017-01-01 00:50:00    999.17     -5.17    268.06        -8.74    75.8   \n",
       "\n",
       "                     VPmax (mbar)  VPact (mbar)  VPdef (mbar)  sh (g/kg)  \\\n",
       "Date Time                                                                  \n",
       "2017-01-01 00:10:00          4.24          3.23          1.00       2.01   \n",
       "2017-01-01 00:20:00          4.19          3.24          0.95       2.02   \n",
       "2017-01-01 00:30:00          4.21          3.24          0.97       2.02   \n",
       "2017-01-01 00:40:00          4.25          3.19          1.05       1.99   \n",
       "2017-01-01 00:50:00          4.15          3.15          1.01       1.96   \n",
       "\n",
       "                     H2OC (mmol/mol)  ...  wv (m/s)  max. wv (m/s)  wd (deg)  \\\n",
       "Date Time                             ...                                      \n",
       "2017-01-01 00:10:00             3.23  ...      0.78           1.56     184.0   \n",
       "2017-01-01 00:20:00             3.24  ...      1.52           1.92     202.6   \n",
       "2017-01-01 00:30:00             3.24  ...      0.98           1.78     227.4   \n",
       "2017-01-01 00:40:00             3.20  ...      1.16           1.80     212.5   \n",
       "2017-01-01 00:50:00             3.15  ...      1.50           2.64     222.1   \n",
       "\n",
       "                     rain (mm)  raining (s)  SWDR (W/m²)  PAR (µmol/m²/s)  \\\n",
       "Date Time                                                                   \n",
       "2017-01-01 00:10:00        0.0          0.0          0.0              0.0   \n",
       "2017-01-01 00:20:00        0.0          0.0          0.0              0.0   \n",
       "2017-01-01 00:30:00        0.0          0.0          0.0              0.0   \n",
       "2017-01-01 00:40:00        0.0          0.0          0.0              0.0   \n",
       "2017-01-01 00:50:00        0.0          0.0          0.0              0.0   \n",
       "\n",
       "                     max. PAR (µmol/m²/s)  Tlog (degC)  CO2 (ppm)  \n",
       "Date Time                                                          \n",
       "2017-01-01 00:10:00                   0.0         7.10      434.3  \n",
       "2017-01-01 00:20:00                   0.0         7.72      434.1  \n",
       "2017-01-01 00:30:00                   0.0         8.77      430.4  \n",
       "2017-01-01 00:40:00                   0.0         9.36      430.6  \n",
       "2017-01-01 00:50:00                   0.0         9.45      429.5  \n",
       "\n",
       "[5 rows x 21 columns]"
      ]
     },
     "execution_count": 13,
     "metadata": {},
     "output_type": "execute_result"
    }
   ],
   "source": [
    "DATA_PATH = \"../data/raw/jena_climate_2017_2024.csv\"\n",
    "df = pd.read_csv(DATA_PATH)\n",
    "df[\"Date Time\"] = pd.to_datetime(df[\"Date Time\"])\n",
    "df.set_index(\"Date Time\", inplace=True)\n",
    "df.head()"
   ]
  },
  {
   "cell_type": "code",
   "execution_count": 14,
   "id": "3d4e8fe9-f7c0-4c1e-89ea-bcab4b27618a",
   "metadata": {},
   "outputs": [
    {
     "data": {
      "text/plain": [
       "(420782, 21)"
      ]
     },
     "execution_count": 14,
     "metadata": {},
     "output_type": "execute_result"
    }
   ],
   "source": [
    "df.shape"
   ]
  },
  {
   "cell_type": "markdown",
   "id": "c2a4f1bb-51ef-4ac2-8cff-165599cc3470",
   "metadata": {},
   "source": [
    "# Removing Duplicates"
   ]
  },
  {
   "cell_type": "code",
   "execution_count": 15,
   "id": "615c0a80-2d92-4a48-87d4-304654d85a56",
   "metadata": {},
   "outputs": [
    {
     "data": {
      "text/plain": [
       "(420631, 21)"
      ]
     },
     "execution_count": 15,
     "metadata": {},
     "output_type": "execute_result"
    }
   ],
   "source": [
    "df = df[~df.index.duplicated(keep='first')]\n",
    "df.shape"
   ]
  },
  {
   "cell_type": "markdown",
   "id": "4cac9899-1e18-4fde-8332-e80e2e5e3446",
   "metadata": {},
   "source": [
    "# Missing Values"
   ]
  },
  {
   "cell_type": "markdown",
   "id": "9072c0b2-e6cd-4f9e-986a-7adeea191f69",
   "metadata": {},
   "source": [
    "## Converting -9999 values to NaN"
   ]
  },
  {
   "cell_type": "code",
   "execution_count": 17,
   "id": "2b890df9-fe6d-4cc5-ac8a-b101c0bbef52",
   "metadata": {},
   "outputs": [
    {
     "data": {
      "text/plain": [
       "(420631, 21)"
      ]
     },
     "execution_count": 17,
     "metadata": {},
     "output_type": "execute_result"
    }
   ],
   "source": [
    "df = df.replace(-9999, np.nan)\n",
    "df.shape"
   ]
  },
  {
   "cell_type": "markdown",
   "id": "70a31f96-7b40-449a-8243-1c306c43e722",
   "metadata": {},
   "source": [
    "## Converting Erroneously Low CO2 Concentration to NaN"
   ]
  },
  {
   "cell_type": "code",
   "execution_count": 18,
   "id": "950d3537-3fb5-4954-b827-057c6c3d19b0",
   "metadata": {},
   "outputs": [
    {
     "data": {
      "text/plain": [
       "(420631, 21)"
      ]
     },
     "execution_count": 18,
     "metadata": {},
     "output_type": "execute_result"
    }
   ],
   "source": [
    "df.loc[df['CO2 (ppm)'] <= 375, 'CO2 (ppm)'] = np.nan\n",
    "df.shape"
   ]
  },
  {
   "cell_type": "code",
   "execution_count": 19,
   "id": "2fef46ae-74d2-4f37-8601-119d42ded23f",
   "metadata": {},
   "outputs": [
    {
     "data": {
      "text/plain": [
       "p (mbar)                  0\n",
       "T (degC)                  0\n",
       "Tpot (K)                  0\n",
       "Tdew (degC)               0\n",
       "rh (%)                    0\n",
       "VPmax (mbar)              0\n",
       "VPact (mbar)              0\n",
       "VPdef (mbar)              0\n",
       "sh (g/kg)                 0\n",
       "H2OC (mmol/mol)           0\n",
       "rho (g/m**3)              0\n",
       "wv (m/s)                  1\n",
       "max. wv (m/s)             0\n",
       "wd (deg)                  0\n",
       "rain (mm)                 0\n",
       "raining (s)               0\n",
       "SWDR (W/m²)               1\n",
       "PAR (µmol/m²/s)           0\n",
       "max. PAR (µmol/m²/s)    128\n",
       "Tlog (degC)               0\n",
       "CO2 (ppm)               822\n",
       "dtype: int64"
      ]
     },
     "execution_count": 19,
     "metadata": {},
     "output_type": "execute_result"
    }
   ],
   "source": [
    "df.isna().sum()"
   ]
  },
  {
   "cell_type": "code",
   "execution_count": 20,
   "id": "765b9a3d-ba86-4bbe-9222-ec3662dc134c",
   "metadata": {},
   "outputs": [
    {
     "data": {
      "text/plain": [
       "p (mbar)                0.000000\n",
       "T (degC)                0.000000\n",
       "Tpot (K)                0.000000\n",
       "Tdew (degC)             0.000000\n",
       "rh (%)                  0.000000\n",
       "VPmax (mbar)            0.000000\n",
       "VPact (mbar)            0.000000\n",
       "VPdef (mbar)            0.000000\n",
       "sh (g/kg)               0.000000\n",
       "H2OC (mmol/mol)         0.000000\n",
       "rho (g/m**3)            0.000000\n",
       "wv (m/s)                0.000238\n",
       "max. wv (m/s)           0.000000\n",
       "wd (deg)                0.000000\n",
       "rain (mm)               0.000000\n",
       "raining (s)             0.000000\n",
       "SWDR (W/m²)             0.000238\n",
       "PAR (µmol/m²/s)         0.000000\n",
       "max. PAR (µmol/m²/s)    0.030430\n",
       "Tlog (degC)             0.000000\n",
       "CO2 (ppm)               0.195421\n",
       "dtype: float64"
      ]
     },
     "execution_count": 20,
     "metadata": {},
     "output_type": "execute_result"
    }
   ],
   "source": [
    "# Percentage of missing values\n",
    "\n",
    "(df.isna().sum() / len(df))*100"
   ]
  },
  {
   "cell_type": "markdown",
   "id": "361599a6-a43e-4dec-b1c9-5749163d0955",
   "metadata": {},
   "source": [
    "## Imputing Missing Values using Interpolation"
   ]
  },
  {
   "cell_type": "code",
   "execution_count": 21,
   "id": "186f2b1b-9b9f-47af-b9ee-c0e3355682bc",
   "metadata": {},
   "outputs": [
    {
     "data": {
      "text/plain": [
       "p (mbar)                0\n",
       "T (degC)                0\n",
       "Tpot (K)                0\n",
       "Tdew (degC)             0\n",
       "rh (%)                  0\n",
       "VPmax (mbar)            0\n",
       "VPact (mbar)            0\n",
       "VPdef (mbar)            0\n",
       "sh (g/kg)               0\n",
       "H2OC (mmol/mol)         0\n",
       "rho (g/m**3)            0\n",
       "wv (m/s)                0\n",
       "max. wv (m/s)           0\n",
       "wd (deg)                0\n",
       "rain (mm)               0\n",
       "raining (s)             0\n",
       "SWDR (W/m²)             0\n",
       "PAR (µmol/m²/s)         0\n",
       "max. PAR (µmol/m²/s)    0\n",
       "Tlog (degC)             0\n",
       "CO2 (ppm)               0\n",
       "dtype: int64"
      ]
     },
     "execution_count": 21,
     "metadata": {},
     "output_type": "execute_result"
    }
   ],
   "source": [
    "df.interpolate(method=\"time\", inplace=True)\n",
    "df.isna().sum()"
   ]
  },
  {
   "cell_type": "markdown",
   "id": "6bac8e42-86f5-44c4-8f63-52a294614b10",
   "metadata": {},
   "source": [
    "# Converting to Daily Resolution"
   ]
  },
  {
   "cell_type": "code",
   "execution_count": 22,
   "id": "3bcc2f37-035c-4bae-8164-682c0bb11032",
   "metadata": {},
   "outputs": [
    {
     "data": {
      "text/plain": [
       "(2923, 21)"
      ]
     },
     "execution_count": 22,
     "metadata": {},
     "output_type": "execute_result"
    }
   ],
   "source": [
    "df = df.resample(\"D\").mean()\n",
    "df.shape"
   ]
  },
  {
   "cell_type": "markdown",
   "id": "e64883ff-071f-4e6a-9dfa-7b098a1f193a",
   "metadata": {},
   "source": [
    "# Saving the Data"
   ]
  },
  {
   "cell_type": "code",
   "execution_count": 23,
   "id": "af73b193-d585-4e76-87af-e62a5d39fdbb",
   "metadata": {},
   "outputs": [],
   "source": [
    "DAILY_DATA_PATH = \"../data/interim/daily_data.csv\"\n",
    "\n",
    "# df.to_csv(DAILY_DATA_PATH, index=True)"
   ]
  },
  {
   "cell_type": "code",
   "execution_count": null,
   "id": "c2067e58-535a-4f78-b0cd-b23a1053bcd2",
   "metadata": {},
   "outputs": [],
   "source": []
  }
 ],
 "metadata": {
  "kernelspec": {
   "display_name": "Python 3 (ipykernel)",
   "language": "python",
   "name": "python3"
  },
  "language_info": {
   "codemirror_mode": {
    "name": "ipython",
    "version": 3
   },
   "file_extension": ".py",
   "mimetype": "text/x-python",
   "name": "python",
   "nbconvert_exporter": "python",
   "pygments_lexer": "ipython3",
   "version": "3.11.11"
  }
 },
 "nbformat": 4,
 "nbformat_minor": 5
}
